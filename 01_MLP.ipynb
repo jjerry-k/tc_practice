{
  "nbformat": 4,
  "nbformat_minor": 0,
  "metadata": {
    "language_info": {
      "codemirror_mode": {
        "name": "ipython",
        "version": 3
      },
      "file_extension": ".py",
      "mimetype": "text/x-python",
      "name": "python",
      "nbconvert_exporter": "python",
      "pygments_lexer": "ipython3",
      "version": "3.7.9-final"
    },
    "orig_nbformat": 2,
    "kernelspec": {
      "name": "python_defaultSpec_1605016911895",
      "display_name": "Python 3.7.9 64-bit ('tc': conda)"
    },
    "colab": {
      "name": "00_MLP.ipynb",
      "provenance": []
    }
  },
  "cells": [
    {
      "cell_type": "markdown",
      "metadata": {
        "id": "qH58_EZPQVHx"
      },
      "source": [
        "<table class=\"tfo-notebook-buttons\" align=\"left\">\n",
        "  <td>\n",
        "    <a target=\"_blank\" href=\"https://colab.research.google.com/github/jjerry-k/tc_practice/blob/main/00_MLP.ipynb\"><img src=\"https://www.tensorflow.org/images/colab_logo_32px.png\" />Run in Google Colab</a>\n",
        "  </td>\n",
        "  <td>\n",
        "    <a target=\"_blank\" href=\"https://github.com/jjerry-k/tc_practice/blob/main/00_MLP.ipynb\"><img src=\"https://www.tensorflow.org/images/GitHub-Mark-32px.png\" />View source on GitHub</a>\n",
        "  </td>\n",
        "</table>"
      ]
    },
    {
      "cell_type": "markdown",
      "metadata": {
        "id": "yKBfV-98QVH5"
      },
      "source": [
        "# Multi Layer Perceptron"
      ]
    },
    {
      "cell_type": "code",
      "metadata": {
        "tags": [],
        "id": "2XbEkyiOQVH6"
      },
      "source": [
        "import numpy as np\n",
        "import torch\n",
        "from torch import nn, optim\n",
        "from torch.nn import functional as F\n",
        "from torchvision import datasets, transforms\n",
        "import matplotlib.pyplot as plt\n",
        "%matplotlib inline  \n",
        "%config InlineBackend.figure_format='retina'\n",
        "print (\"PyTorch version:[%s].\"%(torch.__version__))\n",
        "\n",
        "# Device Configuration\n",
        "device = torch.device('cuda:0' if torch.cuda.is_available() else 'cpu')\n",
        "print (\"This notebook use [%s].\"%(device))"
      ],
      "execution_count": null,
      "outputs": []
    },
    {
      "cell_type": "markdown",
      "metadata": {
        "id": "nA5QCl1QQVH8"
      },
      "source": [
        "# Set hyper-parameter"
      ]
    },
    {
      "cell_type": "code",
      "metadata": {
        "id": "bC_26b9fQVH8"
      },
      "source": [
        "EPOCHS = 10\n",
        "BATCH_SIZE=256\n",
        "LEARNING_RATE=0.001"
      ],
      "execution_count": null,
      "outputs": []
    },
    {
      "cell_type": "markdown",
      "metadata": {
        "id": "Nqjv_WZzQVH9"
      },
      "source": [
        "# Prepare dataset"
      ]
    },
    {
      "cell_type": "code",
      "metadata": {
        "tags": [],
        "id": "NmraakXTQVH9"
      },
      "source": [
        "# MNIST dataset\n",
        "mnist_train = datasets.MNIST(root='./data/', train=True, transform=transforms.ToTensor(), download=True)\n",
        "mnist_test = datasets.MNIST(root='./data/', train=False, transform=transforms.ToTensor(), download=True)\n",
        "\n",
        "train_iter = torch.utils.data.DataLoader(mnist_train, batch_size=BATCH_SIZE, shuffle=True, num_workers=1)\n",
        "test_iter = torch.utils.data.DataLoader(mnist_test, batch_size=BATCH_SIZE, shuffle=True, num_workers=1)\n",
        "\n",
        "print(\"Preparing dataset done!\")"
      ],
      "execution_count": null,
      "outputs": []
    },
    {
      "cell_type": "markdown",
      "metadata": {
        "id": "TuTVfp-FQVH9"
      },
      "source": [
        "# Defining Model"
      ]
    },
    {
      "cell_type": "code",
      "metadata": {
        "id": "kmLT62CcQVH-"
      },
      "source": [
        "# our model\n",
        "class Model(nn.Module):\n",
        "    def __init__(self):\n",
        "        super(Model, self).__init__()\n",
        "        self.linear1 = nn.Linear(784, 256)\n",
        "        self.linear2 = nn.Linear(256, 10)\n",
        "    \n",
        "    def forward(self, X):\n",
        "        X = F.relu((self.linear1(X)))\n",
        "        X = self.linear2(X)\n",
        "        return X\n",
        "\n",
        "model = Model().to(device)\n",
        "criterion = nn.CrossEntropyLoss()\n",
        "optimizer = optim.Adam(model.parameters(), lr=LEARNING_RATE)"
      ],
      "execution_count": null,
      "outputs": []
    },
    {
      "cell_type": "markdown",
      "metadata": {
        "id": "fsHWjUVhQVH-"
      },
      "source": [
        "# Calculate Parameters"
      ]
    },
    {
      "cell_type": "code",
      "metadata": {
        "tags": [],
        "id": "L2eNT7sqQVH_"
      },
      "source": [
        "total_params = 0\n",
        "for param_name, param in model.named_parameters():\n",
        "    if param.requires_grad:\n",
        "        total_params += len(param.reshape(-1))\n",
        "print(f\"Number of Total Parameters: {total_params:,d}\")"
      ],
      "execution_count": null,
      "outputs": []
    },
    {
      "cell_type": "markdown",
      "metadata": {
        "id": "N_WrtREkQVH_"
      },
      "source": [
        "# Define help function"
      ]
    },
    {
      "cell_type": "code",
      "metadata": {
        "id": "3aWNP8bqQVH_"
      },
      "source": [
        "def test_eval(model, data_iter, batch_size):\n",
        "    with torch.no_grad():\n",
        "        test_loss = 0\n",
        "        total = 0\n",
        "        correct = 0\n",
        "        for batch_img, batch_lab in data_iter:\n",
        "            X = batch_img.view(-1, 28*28).to(device)\n",
        "            Y = batch_lab.to(device)\n",
        "            y_pred = model(X)\n",
        "            _, predicted = torch.max(y_pred.data, 1)\n",
        "            correct += (predicted == Y).sum().item()\n",
        "            total += batch_img.size(0)\n",
        "        val_acc = (100 * correct / total)\n",
        "    return val_acc"
      ],
      "execution_count": null,
      "outputs": []
    },
    {
      "cell_type": "markdown",
      "metadata": {
        "id": "UbT8AFYqQVIA"
      },
      "source": [
        "# Train MLP Model "
      ]
    },
    {
      "cell_type": "code",
      "metadata": {
        "tags": [],
        "id": "NunQbA34QVIA"
      },
      "source": [
        "# Training Phase\n",
        "print_every = 1\n",
        "print(\"Start training !\")\n",
        "# Training loop\n",
        "for epoch in range(EPOCHS):\n",
        "    loss_val_sum = 0\n",
        "    for batch_img, batch_lab in train_iter:\n",
        "\n",
        "        X = batch_img.view(-1, 28*28).to(device)\n",
        "        Y = batch_lab.to(device)\n",
        "        \n",
        "        # Inference & Calculate los\n",
        "        y_pred = model.forward(X)\n",
        "        loss = criterion(y_pred, Y)\n",
        "        \n",
        "        optimizer.zero_grad()\n",
        "        loss.backward()\n",
        "        optimizer.step()\n",
        "        \n",
        "        loss_val_sum += loss\n",
        "        \n",
        "    if ((epoch%print_every)==0) or (epoch==(EPOCHS-1)):\n",
        "        # accr_val = M.test(x_test, y_test, batch_size)\n",
        "        loss_val_avg = loss_val_sum / len(train_iter)\n",
        "        accr_val = test_eval(model, test_iter, BATCH_SIZE)\n",
        "        print(f\"epoch:[{epoch+1}/{EPOCHS}] cost:[{loss_val_avg:.3f}] test_accuracy:[{accr_val:.3f}]\")\n",
        "print(\"Training Done !\")"
      ],
      "execution_count": null,
      "outputs": []
    },
    {
      "cell_type": "markdown",
      "metadata": {
        "id": "D9JZPxGdQVIB"
      },
      "source": [
        "# Test MLP Model"
      ]
    },
    {
      "cell_type": "code",
      "metadata": {
        "id": "4WhdeucbQVIB"
      },
      "source": [
        "n_sample = 64\n",
        "sample_indices = np.random.choice(len(mnist_test.targets), n_sample, replace=False)\n",
        "test_x = mnist_test.data[sample_indices]\n",
        "test_y = mnist_test.targets[sample_indices]\n",
        "\n",
        "with torch.no_grad():\n",
        "    y_pred = model.forward(test_x.view(-1, 28*28).type(torch.float).to(device))\n",
        "\n",
        "y_pred = y_pred.argmax(axis=1)\n",
        "\n",
        "plt.figure(figsize=(20, 20))\n",
        "\n",
        "for idx in range(n_sample):\n",
        "    plt.subplot(8, 8, idx+1)\n",
        "    plt.imshow(test_x[idx], cmap='gray')\n",
        "    plt.axis('off')\n",
        "    plt.title(f\"Predict: {y_pred[idx]}, Label: {test_y[idx]}\")\n",
        "\n",
        "plt.show()"
      ],
      "execution_count": null,
      "outputs": []
    }
  ]
}